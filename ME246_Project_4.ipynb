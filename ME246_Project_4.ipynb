{
 "metadata": {
  "name": "",
  "signature": "sha256:826c6ff66887e0992e141dc232d7db930487ef325e6baa7022186da97fd6f40c"
 },
 "nbformat": 3,
 "nbformat_minor": 0,
 "worksheets": [
  {
   "cells": [
    {
     "cell_type": "code",
     "collapsed": false,
     "input": [
      "def power(r):\n",
      "    return r**2"
     ],
     "language": "python",
     "metadata": {},
     "outputs": [],
     "prompt_number": 14
    },
    {
     "cell_type": "code",
     "collapsed": false,
     "input": [
      "import numpy as np\n",
      "from scipy.integrate import quad\n",
      "quad(power, 0., 3.)"
     ],
     "language": "python",
     "metadata": {},
     "outputs": [
      {
       "metadata": {},
       "output_type": "pyout",
       "prompt_number": 15,
       "text": [
        "(9.000000000000002, 9.992007221626411e-14)"
       ]
      }
     ],
     "prompt_number": 15
    }
   ],
   "metadata": {}
  }
 ]
}