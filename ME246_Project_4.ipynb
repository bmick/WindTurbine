{
 "metadata": {
  "name": "",
  "signature": "sha256:d054e16493af84a70e8fb570a9ddfce25251c1399a79c377c0ed2a563e4506bf"
 },
 "nbformat": 3,
 "nbformat_minor": 0,
 "worksheets": [
  {
   "cells": [
    {
     "cell_type": "code",
     "collapsed": false,
     "input": [
      "import math\n",
      "\n",
      "def Diff_Power(r):\n",
      "    # This function returns the differential power generated \n",
      "    # by an infinitesimal segment of the blade located at a distance r of the center of the rotor\n",
      "    \n",
      "    lift_coef = 1.27\n",
      "    chord_r = hub_chord * (1.- sigma* ((r**2-r_hub**2) / (r_tip**2-r_hub**2))) # chord at distance r of rotor (m)\n",
      "    #print chord_r\n",
      "    wind_speed = math.sqrt ((2.*v1/3.)**2 + (rotspeed_angle*r)**2)              # magnitude of wind relative speed (m/s)\n",
      "    #print wind_speed\n",
      "    \n",
      "    dW_dot = 1./3.*nb_blade*air_dens*wind_speed*v1*lift_coef* chord_r* rotspeed_angle* r\n",
      "    \n",
      "    #print dW_dot\n",
      "    return dW_dot"
     ],
     "language": "python",
     "metadata": {},
     "outputs": [],
     "prompt_number": 29
    },
    {
     "cell_type": "code",
     "collapsed": false,
     "input": [
      "def Betz_efficiency():\n",
      "    return 0"
     ],
     "language": "python",
     "metadata": {},
     "outputs": [],
     "prompt_number": 33
    },
    {
     "cell_type": "code",
     "collapsed": false,
     "input": [
      "import numpy as np\n",
      "import scipy.integrate\n",
      "from scipy.integrate import quad\n",
      "\n",
      "def Total_Power ():\n",
      "    \n",
      "    W_dot = integrate.quad (Diff_Power,r_hub,r_tip)\n",
      "    print W_dot\n",
      "    return W_dot"
     ],
     "language": "python",
     "metadata": {},
     "outputs": [],
     "prompt_number": 31
    },
    {
     "cell_type": "code",
     "collapsed": false,
     "input": [
      "# MAIN CODE\n",
      "\n",
      "import math\n",
      "import numpy as np\n",
      "import matplotlib.pyplot as plt\n",
      "import matplotlib.lines as mlines\n",
      "from scipy.integrate import quad\n",
      "\n",
      "debug = False\n",
      "\n",
      "air_dens = 1.18        # air density (kg/m3)\n",
      "v1 = 12.               # far field wind speed (m/s)\n",
      "nb_blade = 3.          # number of blades\n",
      "attack_angle = 8.      # angle of attack (degrees celsius)\n",
      "lift_coef = 1.27       # lift coefficient\n",
      "hub_chord = 2.7        # chord at the hub (m) \n",
      "sigma = 0.30           # constant that dictates the degree of taper\n",
      "r_hub = 3.0            # radius at the hub (m)\n",
      "r_tip = 35.0           # radius at the tip (m)\n",
      "rotspeed_angle = 2.0   # angular rotation speed (rad/s)\n",
      "\n",
      "W_dot, err = quad (Diff_Power,3.0,35.0)\n",
      "print \"Power output of entire rotor = {:.8f} MW\".format(W_dot/1e6)\n"
     ],
     "language": "python",
     "metadata": {},
     "outputs": [
      {
       "output_type": "stream",
       "stream": "stdout",
       "text": [
        "Power output of entire rotor = 2.31968771 MW\n"
       ]
      }
     ],
     "prompt_number": 34
    },
    {
     "cell_type": "code",
     "collapsed": false,
     "input": [],
     "language": "python",
     "metadata": {},
     "outputs": [],
     "prompt_number": 28
    },
    {
     "cell_type": "code",
     "collapsed": false,
     "input": [],
     "language": "python",
     "metadata": {},
     "outputs": [],
     "prompt_number": 21
    },
    {
     "cell_type": "code",
     "collapsed": false,
     "input": [],
     "language": "python",
     "metadata": {},
     "outputs": []
    }
   ],
   "metadata": {}
  }
 ]
}