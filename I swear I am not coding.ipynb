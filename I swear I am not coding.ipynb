{
 "metadata": {
  "name": "",
  "signature": "sha256:8831cdff286fb2984bce4dc2e0277ae684775f72710c53a1c95993e500149c02"
 },
 "nbformat": 3,
 "nbformat_minor": 0,
 "worksheets": [
  {
   "cells": [
    {
     "cell_type": "code",
     "collapsed": false,
     "input": [
      "from scipy.integrate import quad\n",
      "import math\n",
      "import numpy as np\n",
      "import matplotlib.pyplot as plt\n",
      "import time\n",
      "%matplotlib inline\n",
      "\n",
      "n = 3.0 # Number of Blades\n",
      "rho = 1.18 # kg/m^3, the Density of Air\n",
      "v_1 = 12.0 # m/s, far field wind speed\n",
      "alpha = 8.0 #degrees, angle of attack\n",
      "C_L = 1.27# no units, Lift Coefficient\n",
      "K_h = 2.7 #m, Chord length at Hub\n",
      "sigma = .3 #Constant of Chord Length Shrinkage\n",
      "r_h = 3.0 #m, Hub radius\n",
      "R = 35.0 #m, Rotor radius\n",
      "omega = 2.0 #rad/s, rotor rotational speed\n",
      "\n",
      "A_r = math.pi*R**2\n",
      "A = 2./3.*v_1/omega\n",
      "L = omega*R/v_1\n",
      "B = 1./3.*n*rho*v_1**3*C_L*K_h*L**2/R**2\n",
      "r_hat = r_h/R\n",
      "\n",
      "start = time.time()\n",
      "P1 = quad(dP, r_h, R)[0] # Watts\n",
      "t1 = time.time()-start # seconds\n",
      "print \"Numerical Power = {:.8f} MW\".format(P1/1e6)\n",
      "print \"Elapsed Time = {:.5f} s\".format(t1)\n",
      "\n",
      "start = time.time()\n",
      "P2 = P(R)-P(r_h) # Watts\n",
      "t2 = time.time()-start # seconds\n",
      "print \"Analytical Power = {:.8f} MW\".format(P2/1e6)\n",
      "print \"Elapsed Time = {:.5f} s\".format(t2)\n",
      "\n",
      "start = time.time()\n",
      "P3 = Pr() # Watts\n",
      "t3 = time.time()-start # seconds\n",
      "print \"The Real Power = {:.8f} MW\".format(P3/1e6)\n",
      "print \"Elapsed Time = {:.5f} s\".format(t3)\n",
      "\n",
      "BetzLimit = Betz(v_1) # Watts\n",
      "BetzEff = P2/BetzLimit \n",
      "print \"Betz Efficiency = {:.8%}\".format(BetzEff)\n",
      "\n",
      "BetzEff = Betz2()\n",
      "print \"Betz Efficiency = {:.8%}\".format(BetzEff)\n"
     ],
     "language": "python",
     "metadata": {},
     "outputs": [
      {
       "output_type": "stream",
       "stream": "stdout",
       "text": [
        "Numerical Power = 2.31968771 MW\n",
        "Elapsed Time = 0.00034 s\n",
        "Analytical Power = 2.31968771 MW\n",
        "Elapsed Time = 0.00026 s\n",
        "The Real Power = 2.31968771 MW\n",
        "Elapsed Time = 0.00015 s\n",
        "Betz Efficiency = 99.76807465%\n",
        "Betz Efficiency = 99.76807465%\n"
       ]
      }
     ],
     "prompt_number": 18
    },
    {
     "cell_type": "code",
     "collapsed": false,
     "input": [
      "def w(r):\n",
      "    return ((2*v_1/3)**2+(omega*r)**2)**.5"
     ],
     "language": "python",
     "metadata": {},
     "outputs": [],
     "prompt_number": 4
    },
    {
     "cell_type": "code",
     "collapsed": false,
     "input": [
      "def K(r):\n",
      "    return K_h*(1-sigma*(r**2-r_h**2)/(R**2-r_h**2))"
     ],
     "language": "python",
     "metadata": {},
     "outputs": [],
     "prompt_number": 5
    },
    {
     "cell_type": "code",
     "collapsed": false,
     "input": [
      "def dP(r):\n",
      "    return (1.0/3.0)*n*rho*v_1*C_L*omega*r*w(r)*K(r)"
     ],
     "language": "python",
     "metadata": {},
     "outputs": [],
     "prompt_number": 6
    },
    {
     "cell_type": "code",
     "collapsed": false,
     "input": [
      "def P(r):\n",
      "    return 1./3.*B*(4.*R**2/(9.*L**2)+r**2)**1.5*(1.+sigma/(1-r_hat**2)*(r_hat**2-.2/R**2*(3*r**2-8.*R**2/(9.*L**2))))"
     ],
     "language": "python",
     "metadata": {},
     "outputs": [],
     "prompt_number": 7
    },
    {
     "cell_type": "code",
     "collapsed": false,
     "input": [
      "def Pr():\n",
      "    return 1./9.*n*rho*C_L*K_h*L**2*v_1**3*R/(1-r_hat**2)*\\\n",
      "(((4./(9.*L**2) + 1)**1.5 * (1. - r_hat**2 + sigma*r_hat**2 - .6*sigma + 8.*sigma/(45.*L**2)))\\\n",
      " - ((4./(9.*L**2) + r_hat**2)**1.5*(1. - r_hat**2 + sigma*r_hat**2 - .6*sigma*r_hat**2 + 8.*sigma/(45.*L**2))))"
     ],
     "language": "python",
     "metadata": {},
     "outputs": [],
     "prompt_number": 8
    },
    {
     "cell_type": "code",
     "collapsed": false,
     "input": [
      "def Betz(v_1):\n",
      "    return (16./27.)*(1./2.)*rho*A_r*v_1**3"
     ],
     "language": "python",
     "metadata": {},
     "outputs": [],
     "prompt_number": 9
    },
    {
     "cell_type": "code",
     "collapsed": false,
     "input": [
      "def Betz2():\n",
      "    return 27.*n*C_L*K_h*L**2/(72.*(1-r_hat**2)*math.pi*R)*\\\n",
      "(((4./(9.*L**2) + 1)**1.5 * (1. - r_hat**2 + sigma*r_hat**2 - .6*sigma + 8.*sigma/(45.*L**2)))\\\n",
      " - ((4./(9.*L**2) + r_hat**2)**1.5*(1. - r_hat**2 + sigma*r_hat**2 - .6*sigma*r_hat**2 + 8.*sigma/(45.*L**2))))"
     ],
     "language": "python",
     "metadata": {},
     "outputs": [],
     "prompt_number": 16
    },
    {
     "cell_type": "code",
     "collapsed": false,
     "input": [
      "r_array = np.linspace(r_h, R)\n",
      "K_array = [K(r) for r in r_array]\n",
      "W_array = [w(r) for r in r_array]\n",
      "plt.plot(r_array, W_array)\n",
      "plt.axis([0,40,0,80])\n",
      "plt.title(\"Effective Wind Speed vs r\")\n",
      "plt.show()\n",
      "\n",
      "plt.figure(1)\n",
      "plt.plot(r_array, K_array)\n",
      "plt.axis([0,40,0,3])\n",
      "plt.title(\"Chord Length vs r\")\n",
      "plt.show()\n"
     ],
     "language": "python",
     "metadata": {},
     "outputs": [
      {
       "metadata": {},
       "output_type": "display_data",
       "png": "[encoded data removed]",
       "text": [
        "<matplotlib.figure.Figure at 0x10b647ed0>"
       ]
      },
      {
       "metadata": {},
       "output_type": "display_data",
       "png": "[encoded data removed]",
       "text": [
        "<matplotlib.figure.Figure at 0x10b6a4150>"
       ]
      }
     ],
     "prompt_number": 9
    },
    {
     "cell_type": "code",
     "collapsed": false,
     "input": [],
     "language": "python",
     "metadata": {},
     "outputs": []
    }
   ],
   "metadata": {}
  }
 ]
}