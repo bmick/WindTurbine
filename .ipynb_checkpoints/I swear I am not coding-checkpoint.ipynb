{
 "metadata": {
  "name": "",
  "signature": "sha256:819a07e412ca472ed0ffed9060d200b772d8654d0f168c41843835c556c2987d"
 },
 "nbformat": 3,
 "nbformat_minor": 0,
 "worksheets": []
}